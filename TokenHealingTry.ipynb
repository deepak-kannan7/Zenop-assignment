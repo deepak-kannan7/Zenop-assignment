{
  "nbformat": 4,
  "nbformat_minor": 0,
  "metadata": {
    "colab": {
      "provenance": []
    },
    "kernelspec": {
      "name": "python3",
      "display_name": "Python 3"
    },
    "language_info": {
      "name": "python"
    }
  },
  "cells": [
    {
      "cell_type": "code",
      "execution_count": null,
      "metadata": {
        "colab": {
          "base_uri": "https://localhost:8080/"
        },
        "id": "YKQ7J7MOZuam",
        "outputId": "8ac4975e-702d-45fd-cdc1-624704f1d875"
      },
      "outputs": [
        {
          "output_type": "stream",
          "name": "stdout",
          "text": [
            "Corrected Text:\n",
            "This is an example of incorrect text\n"
          ]
        }
      ],
      "source": [
        "import re\n",
        "def token_healing(input_text, correction_map):\n",
        "    tokens = re.split(r'\\s+', input_text.strip())\n",
        "    for i, token in enumerate(tokens):\n",
        "        if token in correction_map:\n",
        "            tokens[i] = correction_map[token]\n",
        "    corrected_text = ' '.join(tokens)\n",
        "    return corrected_text\n",
        "def main():\n",
        "    input_text = \"Thsi is an exmaple of incorect text\"\n",
        "    correction_map = {\n",
        "        \"Thsi\": \"This\",\n",
        "        \"exmaple\": \"example\",\n",
        "        \"incorect\": \"incorrect\"\n",
        "    }\n",
        "    corrected_text = token_healing(input_text, correction_map)\n",
        "    print(\"Corrected Text:\")\n",
        "    print(corrected_text)\n",
        "if __name__ == '__main__':\n",
        "    main()"
      ]
    }
  ]
}